{
 "cells": [
  {
   "cell_type": "markdown",
   "metadata": {},
   "source": [
    "# Multi-Turn Chat Benchmark\n",
    "\n",
    "```bash\n",
    "gcloud container clusters create-auto cluster-1 \\\n",
    "    --location=us-central1\n",
    "\n",
    "helm repo add kubeai https://www.kubeai.org\n",
    "helm repo update\n",
    "curl -L -O https://raw.githubusercontent.com/substratusai/kubeai/refs/heads/main/charts/kubeai/values-gke.yaml\n",
    "helm upgrade --install kubeai kubeai/kubeai \\\n",
    "    -f values-gke.yaml \\\n",
    "    --set secrets.huggingface.token=$HUGGING_FACE_HUB_TOKEN \\\n",
    "    --set metrics.prometheusOperator.vLLMPodMonitor.enabled=true \\\n",
    "    --set open-webui.enabled=false \\\n",
    "    --wait\n",
    "```"
   ]
  },
  {
   "cell_type": "code",
   "execution_count": null,
   "metadata": {},
   "outputs": [],
   "source": [
    "from subprocess import run, PIPE\n",
    "import json\n",
    "from kubernetes import config, dynamic\n",
    "from kubernetes.client import api_client\n",
    "from copy import deepcopy"
   ]
  },
  {
   "cell_type": "code",
   "execution_count": null,
   "metadata": {},
   "outputs": [],
   "source": [
    "k8s_client = dynamic.DynamicClient(\n",
    "    api_client.ApiClient(configuration=config.load_kube_config())\n",
    ")\n",
    "models_client = k8s_client.resources.get(api_version=\"kubeai.org/v1\", kind=\"Model\")"
   ]
  },
  {
   "cell_type": "code",
   "execution_count": 114,
   "metadata": {},
   "outputs": [],
   "source": [
    "#base_model = {\n",
    "#    \"apiVersion\": \"kubeai.org/v1\",\n",
    "#    \"kind\": \"Model\",\n",
    "#    \"metadata\": {\n",
    "#        \"name\": \"bench\",\n",
    "#        \"namespace\": \"default\",\n",
    "#    },\n",
    "#    \"spec\": {\n",
    "#        \"features\": [\"TextGeneration\"],\n",
    "#        \"url\": \"ollama://qwen2:0.5b\",\n",
    "#        \"engine\": \"OLlama\",\n",
    "#        \"resourceProfile\": \"cpu:2\"\n",
    "#    },\n",
    "#}\n",
    "base_model = {\n",
    "    \"apiVersion\": \"kubeai.org/v1\",\n",
    "    \"kind\": \"Model\",\n",
    "    \"metadata\": {\n",
    "        \"name\": \"bench\",\n",
    "        \"namespace\": \"default\",\n",
    "    },\n",
    "    \"spec\": {\n",
    "        \"features\": [\"TextGeneration\"],\n",
    "        \"url\": \"hf://neuralmagic/Meta-Llama-3.1-8B-Instruct-FP8\",\n",
    "        \"engine\": \"VLLM\",\n",
    "        \"args\": [\n",
    "            \"--enable-prefix-caching\",\n",
    "            \"--max-model-len=16384\",\n",
    "            \"--max-num-batched-token=16384\",\n",
    "            \"--gpu-memory-utilization=0.8\",\n",
    "            \"--disable-log-requests\"\n",
    "        ],\n",
    "        \"resourceProfile\": \"nvidia-gpu-l4:1\"\n",
    "    },\n",
    "\n",
    "}"
   ]
  },
  {
   "cell_type": "code",
   "execution_count": null,
   "metadata": {},
   "outputs": [],
   "source": [
    "benches = [\n",
    "    {\n",
    "        \"thread_count\": 2000,\n",
    "        \"max_concurrent_threads\": 400,\n",
    "    },\n",
    "    {\n",
    "        \"thread_count\": 2000,\n",
    "        \"max_concurrent_threads\": 400,\n",
    "    },\n",
    "]\n",
    "specs = [\n",
    "    {\n",
    "        \"minReplicas\": 2,\n",
    "        \"maxReplicas\": 2,\n",
    "        \"loadBalancing\": {\n",
    "            \"strategy\": \"PrefixHash\",\n",
    "            \"prefixHash\": {\n",
    "                \"meanLoadFactor\": 115,\n",
    "                \"prefixCharLength\": 100,\n",
    "                \"replication\": 1000,\n",
    "            },\n",
    "        },\n",
    "    },\n",
    "    {\n",
    "        \"minReplicas\": 2,\n",
    "        \"maxReplicas\": 2,\n",
    "        \"loadBalancing\": {\n",
    "            \"strategy\": \"LeastLoad\",\n",
    "            \"prefixHash\": {\n",
    "                \"meanLoadFactor\": 115,\n",
    "                \"prefixCharLength\": 100,\n",
    "                \"replication\": 1000,\n",
    "            },\n",
    "        },\n",
    "    },\n",
    "] \n"
   ]
  },
  {
   "cell_type": "code",
   "execution_count": null,
   "metadata": {},
   "outputs": [
    {
     "name": "stdout",
     "output_type": "stream",
     "text": [
      "{'thread_count': 1800, 'max_concurrent_threads': 260}\n",
      "pod/bench created\n",
      "pod/bench condition met\n",
      "model.kubeai.org/bench condition met\n",
      "kubectl exec bench -- bench --threads=./data/large-exact.json --thread-count=1800 --max-concurrent-threads=260 --request-model=bench --max-completion-tokens=40 --request-timeout=2m --seed=2 --format=json\n"
     ]
    },
    {
     "name": "stderr",
     "output_type": "stream",
     "text": [
      "2025/02/24 03:07:18 Shuffling dataset threads\n",
      "2025/02/24 03:07:18 Trimming dataset threads (9204) to specified thread count (1800)\n",
      "2025/02/24 03:07:18 Starting run...\n",
      "2025/02/24 03:12:48 Run completed, starting summarization...\n"
     ]
    },
    {
     "name": "stdout",
     "output_type": "stream",
     "text": [
      "{'input_thread_count': 1800, 'input_messages_per_thread': {'mean': 7.486111111111111}, 'duration': '5m29.873137922s', 'request_count': 13475, 'request_duration': {'mean': '5.516706449s'}, 'chunks_per_request': {'mean': 38.93298701298701}, 'failed_threads': 0, 'run_output_throughput': 1590.3750250923713, 'run_total_throughput': 17611.515859086707, 'ttft': {'mean': '374.11382ms'}, 'itl': {'mean': '131.588506ms'}, 'prompt_tokens': 5284944, 'cached_prompt_tokens': 0, 'completion_tokens': 524622, 'total_tokens': 5809566}\n",
      "pod \"bench\" deleted\n",
      "{'thread_count': 1800, 'max_concurrent_threads': 260}\n",
      "pod/bench created\n",
      "pod/bench condition met\n",
      "model.kubeai.org/bench condition met\n",
      "kubectl exec bench -- bench --threads=./data/large-exact.json --thread-count=1800 --max-concurrent-threads=260 --request-model=bench --max-completion-tokens=40 --request-timeout=2m --seed=2 --format=json\n"
     ]
    },
    {
     "name": "stderr",
     "output_type": "stream",
     "text": [
      "2025/02/24 03:14:36 Shuffling dataset threads\n",
      "2025/02/24 03:14:36 Trimming dataset threads (9204) to specified thread count (1800)\n",
      "2025/02/24 03:14:36 Starting run...\n"
     ]
    }
   ],
   "source": [
    "all_results = []\n",
    "\n",
    "i = 0\n",
    "for spec in specs:\n",
    "    for  bench in benches:\n",
    "        print(bench)\n",
    "        try:\n",
    "            # Start a fresh instance of the benchmark Pod.\n",
    "            !kubectl apply -f ./bench-pod.yaml\n",
    "            !kubectl wait --timeout 10m --for=condition=Ready -f ./bench-pod.yaml\n",
    "\n",
    "            model = deepcopy(base_model)\n",
    "            model[\"spec\"].update(spec)\n",
    "            #model[\"metadata\"][\"name\"] = model[\"metadata\"][\"name\"] + f'-{i}'\n",
    "            #models_client.create(body=model)\n",
    "            models_client.patch(\n",
    "                body=model,\n",
    "                content_type=\"application/apply-patch+yaml\",\n",
    "                field_manager=\"benchmark\",\n",
    "            )\n",
    "\n",
    "\n",
    "            model_name = model.get(\"metadata\").get(\"name\")\n",
    "            model_replicas = model.get(\"spec\").get(\"minReplicas\")\n",
    "\n",
    "            !kubectl wait --timeout 30m --for=jsonpath='.status.replicas.ready'={model_replicas} model/{model_name}\n",
    "\n",
    "            thread_count = bench.get(\"thread_count\")\n",
    "            max_concurrent_threads = bench.get(\"max_concurrent_threads\")\n",
    "            cmd = f'kubectl exec bench -- bench --threads=./data/large-exact.json --thread-count={thread_count} --max-concurrent-threads={max_concurrent_threads} --request-model={model_name} --max-completion-tokens=40 --request-timeout=2m --seed=2 --format=json'\n",
    "            print(cmd)\n",
    "\n",
    "            output = run(cmd, shell=True, stdout=PIPE, encoding='utf8')\n",
    "            result = json.loads(output.stdout)\n",
    "            print(result)\n",
    "            all_results.append({\n",
    "                \"spec\": spec,\n",
    "                \"bench\": bench,\n",
    "                \"result\": result\n",
    "            }) \n",
    "        finally:\n",
    "            models_client.delete(name=model_name, namespace=\"default\")\n",
    "            !kubectl delete --now -f ./bench-pod.yaml\n",
    "            i+=1\n",
    "\n",
    "all_results"
   ]
  },
  {
   "cell_type": "code",
   "execution_count": null,
   "metadata": {},
   "outputs": [
    {
     "name": "stdout",
     "output_type": "stream",
     "text": [
      "Strategy PrefixHash: TTFT=1.311553724s ITL=147.76313ms TPS(total)=15412.22594145517\n"
     ]
    }
   ],
   "source": [
    "for r in all_results:\n",
    "    print(f'Strategy {r[\"spec\"][\"loadBalancing\"][\"strategy\"]}: TTFT={r[\"result\"][\"ttft\"][\"mean\"]} ITL={r[\"result\"][\"itl\"][\"mean\"]} TPS(total)={r[\"result\"][\"run_total_throughput\"]}')"
   ]
  },
  {
   "cell_type": "markdown",
   "metadata": {},
   "source": []
  }
 ],
 "metadata": {
  "kernelspec": {
   "display_name": ".venv",
   "language": "python",
   "name": "python3"
  },
  "language_info": {
   "codemirror_mode": {
    "name": "ipython",
    "version": 3
   },
   "file_extension": ".py",
   "mimetype": "text/x-python",
   "name": "python",
   "nbconvert_exporter": "python",
   "pygments_lexer": "ipython3",
   "version": "3.13.1"
  }
 },
 "nbformat": 4,
 "nbformat_minor": 2
}
