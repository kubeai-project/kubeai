{
 "cells": [
  {
   "cell_type": "markdown",
   "metadata": {},
   "source": [
    "# Multi-Turn Chat Benchmark\n",
    "\n",
    "Assumes:\n",
    "\n",
    "* Kubernetes cluster exists and KUBECONFIG is already configured.\n",
    "* KubeAI is already installed."
   ]
  },
  {
   "cell_type": "code",
   "execution_count": 22,
   "metadata": {},
   "outputs": [
    {
     "name": "stdout",
     "output_type": "stream",
     "text": [
      "pod/bench configured\n",
      "pod/bench condition met\n"
     ]
    }
   ],
   "source": [
    "!kubectl apply -f ./manifests.yaml\n",
    "!kubectl wait --for=condition=Ready -f ./manifests.yaml"
   ]
  },
  {
   "cell_type": "code",
   "execution_count": 163,
   "metadata": {},
   "outputs": [],
   "source": [
    "from subprocess import run, PIPE\n",
    "import json\n",
    "from kubernetes import config, dynamic\n",
    "from kubernetes.client import api_client\n",
    "from copy import deepcopy"
   ]
  },
  {
   "cell_type": "code",
   "execution_count": 164,
   "metadata": {},
   "outputs": [],
   "source": [
    "k8s_client = dynamic.DynamicClient(\n",
    "    api_client.ApiClient(configuration=config.load_kube_config())\n",
    ")\n",
    "models_client = k8s_client.resources.get(api_version=\"kubeai.org/v1\", kind=\"Model\")"
   ]
  },
  {
   "cell_type": "code",
   "execution_count": 174,
   "metadata": {},
   "outputs": [],
   "source": [
    "base_model = {\n",
    "    \"apiVersion\": \"kubeai.org/v1\",\n",
    "    \"kind\": \"Model\",\n",
    "    \"metadata\": {\n",
    "        \"name\": \"bench\",\n",
    "        \"namespace\": \"default\",\n",
    "    },\n",
    "    \"spec\": {\n",
    "        \"features\": [\"TextGeneration\"],\n",
    "        \"url\": \"ollama://qwen2:0.5b\",\n",
    "        \"engine\": \"OLlama\",\n",
    "        \"resourceProfile\": \"cpu:2\"\n",
    "    },\n",
    "}"
   ]
  },
  {
   "cell_type": "code",
   "execution_count": 180,
   "metadata": {},
   "outputs": [],
   "source": [
    "benches = [\n",
    "    {\n",
    "        \"thread_count\": 4,\n",
    "        \"max_concurrent_threads\": 1,\n",
    "    },\n",
    "    {\n",
    "        \"thread_count\": 3,\n",
    "        \"max_concurrent_threads\": 2,\n",
    "    }\n",
    "]\n",
    "specs = [\n",
    "    {\n",
    "        \"minReplicas\": 4,\n",
    "        \"maxReplicas\": 4,\n",
    "    },\n",
    "    {\n",
    "        \"minReplicas\": 5,\n",
    "        \"maxReplicas\": 5,\n",
    "    },\n",
    "] \n"
   ]
  },
  {
   "cell_type": "code",
   "execution_count": 181,
   "metadata": {},
   "outputs": [
    {
     "name": "stdout",
     "output_type": "stream",
     "text": [
      "{'thread_count': 4, 'max_concurrent_threads': 1}\n",
      "model.kubeai.org/bench condition met\n",
      "kubectl exec bench -- bench --threads=./data/tiny.json --thread-count=4 --max-concurrent-threads=1 --request-model=bench --max-completion-tokens=10 --request-timeout=2m --format=json\n"
     ]
    },
    {
     "name": "stderr",
     "output_type": "stream",
     "text": [
      "2025/02/23 01:22:58 Shuffling dataset threads\n",
      "2025/02/23 01:22:58 Trimming dataset threads (6) to specified thread count (4)\n",
      "2025/02/23 01:22:58 Starting run...\n",
      "2025/02/23 01:23:00 Thread[1/4]: Finished\n",
      "2025/02/23 01:23:01 Thread[2/4]: Finished\n",
      "2025/02/23 01:23:04 Thread[3/4]: Finished\n",
      "2025/02/23 01:23:06 Thread[4/4]: Finished\n",
      "2025/02/23 01:23:06 Run completed, starting summarization...\n"
     ]
    },
    {
     "name": "stdout",
     "output_type": "stream",
     "text": [
      "{'input_thread_count': 4, 'input_messages_per_thread': {'mean': 4.75}, 'duration': '8.106102814s', 'request_count': 19, 'request_duration': {'mean': '426.569957ms'}, 'chunks_per_request': {'mean': 10}, 'failed_threads': 0, 'run_output_throughput': 23.43913028981722, 'run_total_throughput': 379.9606383823002, 'ttft': {'mean': '327.766701ms'}, 'itl': {'mean': '10.972985ms'}, 'prompt_tokens': 2890, 'cached_prompt_tokens': 0, 'completion_tokens': 190, 'total_tokens': 3080}\n",
      "{'thread_count': 3, 'max_concurrent_threads': 2}\n",
      "model.kubeai.org/bench condition met\n",
      "kubectl exec bench -- bench --threads=./data/tiny.json --thread-count=3 --max-concurrent-threads=2 --request-model=bench --max-completion-tokens=10 --request-timeout=2m --format=json\n"
     ]
    },
    {
     "name": "stderr",
     "output_type": "stream",
     "text": [
      "2025/02/23 01:23:25 Shuffling dataset threads\n",
      "2025/02/23 01:23:25 Trimming dataset threads (6) to specified thread count (3)\n",
      "2025/02/23 01:23:25 Starting run...\n",
      "2025/02/23 01:23:27 Thread[2/3]: Finished\n",
      "2025/02/23 01:23:27 Thread[1/3]: Finished\n",
      "2025/02/23 01:23:30 Thread[3/3]: Finished\n",
      "2025/02/23 01:23:30 Run completed, starting summarization...\n"
     ]
    },
    {
     "name": "stdout",
     "output_type": "stream",
     "text": [
      "{'input_thread_count': 3, 'input_messages_per_thread': {'mean': 4.333333333333333}, 'duration': '4.751332399s', 'request_count': 13, 'request_duration': {'mean': '504.801459ms'}, 'chunks_per_request': {'mean': 10}, 'failed_threads': 0, 'run_output_throughput': 27.360746225071676, 'run_total_throughput': 437.7719396011468, 'ttft': {'mean': '393.493204ms'}, 'itl': {'mean': '12.361448ms'}, 'prompt_tokens': 1950, 'cached_prompt_tokens': 0, 'completion_tokens': 130, 'total_tokens': 2080}\n",
      "{'thread_count': 4, 'max_concurrent_threads': 1}\n",
      "model.kubeai.org/bench condition met\n",
      "kubectl exec bench -- bench --threads=./data/tiny.json --thread-count=4 --max-concurrent-threads=1 --request-model=bench --max-completion-tokens=10 --request-timeout=2m --format=json\n"
     ]
    },
    {
     "name": "stderr",
     "output_type": "stream",
     "text": [
      "2025/02/23 01:23:50 Shuffling dataset threads\n",
      "2025/02/23 01:23:50 Trimming dataset threads (6) to specified thread count (4)\n",
      "2025/02/23 01:23:50 Starting run...\n",
      "2025/02/23 01:23:52 Thread[1/4]: Finished\n",
      "2025/02/23 01:23:53 Thread[2/4]: Finished\n",
      "2025/02/23 01:23:55 Thread[3/4]: Finished\n",
      "2025/02/23 01:23:58 Thread[4/4]: Finished\n",
      "2025/02/23 01:23:58 Run completed, starting summarization...\n"
     ]
    },
    {
     "name": "stdout",
     "output_type": "stream",
     "text": [
      "{'input_thread_count': 4, 'input_messages_per_thread': {'mean': 4.75}, 'duration': '7.773385523s', 'request_count': 19, 'request_duration': {'mean': '409.066906ms'}, 'chunks_per_request': {'mean': 10}, 'failed_threads': 0, 'run_output_throughput': 24.442374488930902, 'run_total_throughput': 396.2237548731957, 'ttft': {'mean': '308.845968ms'}, 'itl': {'mean': '11.131069ms'}, 'prompt_tokens': 2890, 'cached_prompt_tokens': 0, 'completion_tokens': 190, 'total_tokens': 3080}\n",
      "{'thread_count': 3, 'max_concurrent_threads': 2}\n",
      "model.kubeai.org/bench condition met\n",
      "kubectl exec bench -- bench --threads=./data/tiny.json --thread-count=3 --max-concurrent-threads=2 --request-model=bench --max-completion-tokens=10 --request-timeout=2m --format=json\n"
     ]
    },
    {
     "name": "stderr",
     "output_type": "stream",
     "text": [
      "2025/02/23 01:24:17 Shuffling dataset threads\n",
      "2025/02/23 01:24:17 Trimming dataset threads (6) to specified thread count (3)\n",
      "2025/02/23 01:24:17 Starting run...\n",
      "2025/02/23 01:24:18 Thread[2/3]: Finished\n",
      "2025/02/23 01:24:19 Thread[1/3]: Finished\n"
     ]
    },
    {
     "name": "stdout",
     "output_type": "stream",
     "text": [
      "{'input_thread_count': 3, 'input_messages_per_thread': {'mean': 4.333333333333333}, 'duration': '4.369495056s', 'request_count': 13, 'request_duration': {'mean': '485.955919ms'}, 'chunks_per_request': {'mean': 10}, 'failed_threads': 0, 'run_output_throughput': 29.751721499602038, 'run_total_throughput': 476.0275439936326, 'ttft': {'mean': '385.445057ms'}, 'itl': {'mean': '11.163695ms'}, 'prompt_tokens': 1950, 'cached_prompt_tokens': 0, 'completion_tokens': 130, 'total_tokens': 2080}\n"
     ]
    },
    {
     "name": "stderr",
     "output_type": "stream",
     "text": [
      "2025/02/23 01:24:21 Thread[3/3]: Finished\n",
      "2025/02/23 01:24:21 Run completed, starting summarization...\n"
     ]
    },
    {
     "data": {
      "text/plain": [
       "[{'spec': {'minReplicas': 4, 'maxReplicas': 4},\n",
       "  'bench': {'thread_count': 4, 'max_concurrent_threads': 1},\n",
       "  'results': [...]},\n",
       " {'spec': {'minReplicas': 4, 'maxReplicas': 4},\n",
       "  'bench': {'thread_count': 3, 'max_concurrent_threads': 2},\n",
       "  'results': [...]},\n",
       " {'spec': {'minReplicas': 5, 'maxReplicas': 5},\n",
       "  'bench': {'thread_count': 4, 'max_concurrent_threads': 1},\n",
       "  'results': [...]},\n",
       " {'spec': {'minReplicas': 5, 'maxReplicas': 5},\n",
       "  'bench': {'thread_count': 3, 'max_concurrent_threads': 2},\n",
       "  'results': [...]}]"
      ]
     },
     "execution_count": 181,
     "metadata": {},
     "output_type": "execute_result"
    }
   ],
   "source": [
    "results = []\n",
    "\n",
    "for spec in specs:\n",
    "    for  bench in benches:\n",
    "        print(bench)\n",
    "        try:\n",
    "            model = deepcopy(base_model)\n",
    "            model[\"spec\"].update(spec)\n",
    "            models_client.create(body=model)\n",
    "\n",
    "            model_name = model.get(\"metadata\").get(\"name\")\n",
    "            model_replicas = model.get(\"spec\").get(\"minReplicas\")\n",
    "\n",
    "            !kubectl wait --timeout 30m --for=jsonpath='.status.replicas.ready'={model_replicas} model/{model_name}\n",
    "\n",
    "            thread_count = bench.get(\"thread_count\")\n",
    "            max_concurrent_threads = bench.get(\"max_concurrent_threads\")\n",
    "            cmd = f'kubectl exec bench -- bench --threads=./data/tiny.json --thread-count={thread_count} --max-concurrent-threads={max_concurrent_threads} --request-model={model_name} --max-completion-tokens=10 --request-timeout=2m --format=json'\n",
    "            print(cmd)\n",
    "\n",
    "            output = run(cmd, shell=True, stdout=PIPE, encoding='utf8')\n",
    "            result = json.loads(output.stdout)\n",
    "            print(result)\n",
    "            results.append({\n",
    "                \"spec\": spec,\n",
    "                \"bench\": bench,\n",
    "                \"results\": results\n",
    "            }) \n",
    "        finally:\n",
    "            models_client.delete(name=model_name, namespace=\"default\")\n",
    "\n",
    "results"
   ]
  }
 ],
 "metadata": {
  "kernelspec": {
   "display_name": ".venv",
   "language": "python",
   "name": "python3"
  },
  "language_info": {
   "codemirror_mode": {
    "name": "ipython",
    "version": 3
   },
   "file_extension": ".py",
   "mimetype": "text/x-python",
   "name": "python",
   "nbconvert_exporter": "python",
   "pygments_lexer": "ipython3",
   "version": "3.13.1"
  }
 },
 "nbformat": 4,
 "nbformat_minor": 2
}
